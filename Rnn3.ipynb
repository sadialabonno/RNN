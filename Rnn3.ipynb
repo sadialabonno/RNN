{
  "nbformat": 4,
  "nbformat_minor": 0,
  "metadata": {
    "colab": {
      "name": "Rnn3.ipynb",
      "provenance": []
    },
    "kernelspec": {
      "name": "python3",
      "display_name": "Python 3"
    },
    "language_info": {
      "name": "python"
    }
  },
  "cells": [
    {
      "cell_type": "code",
      "metadata": {
        "id": "vpElM2bDQEzz"
      },
      "source": [
        "\n",
        "import tensorflow as tf\n",
        "from keras.preprocessing.image import ImageDataGenerator\n",
        "import numpy as np\n",
        "import matplotlib.pyplot as plt\n",
        "import pandas as pd\n",
        "from numpy import array"
      ],
      "execution_count": null,
      "outputs": []
    },
    {
      "cell_type": "code",
      "metadata": {
        "id": "yyjwYaE0QMFZ"
      },
      "source": [
        "dataset= pd.read_csv('data.csv')"
      ],
      "execution_count": null,
      "outputs": []
    },
    {
      "cell_type": "code",
      "metadata": {
        "colab": {
          "base_uri": "https://localhost:8080/",
          "height": 443
        },
        "id": "XgS_hlNAQXqJ",
        "outputId": "1a745a26-6a59-474e-9bac-1d6f710f5753"
      },
      "source": [
        "dataset"
      ],
      "execution_count": null,
      "outputs": [
        {
          "output_type": "execute_result",
          "data": {
            "text/html": [
              "<div>\n",
              "<style scoped>\n",
              "    .dataframe tbody tr th:only-of-type {\n",
              "        vertical-align: middle;\n",
              "    }\n",
              "\n",
              "    .dataframe tbody tr th {\n",
              "        vertical-align: top;\n",
              "    }\n",
              "\n",
              "    .dataframe thead th {\n",
              "        text-align: right;\n",
              "    }\n",
              "</style>\n",
              "<table border=\"1\" class=\"dataframe\">\n",
              "  <thead>\n",
              "    <tr style=\"text-align: right;\">\n",
              "      <th></th>\n",
              "      <th>filename</th>\n",
              "      <th>chroma_stft</th>\n",
              "      <th>rmse</th>\n",
              "      <th>spectral_centroid</th>\n",
              "      <th>spectral_bandwidth</th>\n",
              "      <th>rolloff</th>\n",
              "      <th>zero_crossing_rate</th>\n",
              "      <th>mfcc1</th>\n",
              "      <th>mfcc2</th>\n",
              "      <th>mfcc3</th>\n",
              "      <th>mfcc4</th>\n",
              "      <th>mfcc5</th>\n",
              "      <th>mfcc6</th>\n",
              "      <th>mfcc7</th>\n",
              "      <th>mfcc8</th>\n",
              "      <th>mfcc9</th>\n",
              "      <th>mfcc10</th>\n",
              "      <th>mfcc11</th>\n",
              "      <th>mfcc12</th>\n",
              "      <th>mfcc13</th>\n",
              "      <th>mfcc14</th>\n",
              "      <th>mfcc15</th>\n",
              "      <th>mfcc16</th>\n",
              "      <th>mfcc17</th>\n",
              "      <th>mfcc18</th>\n",
              "      <th>mfcc19</th>\n",
              "      <th>mfcc20</th>\n",
              "      <th>label</th>\n",
              "    </tr>\n",
              "  </thead>\n",
              "  <tbody>\n",
              "    <tr>\n",
              "      <th>0</th>\n",
              "      <td>bee.000954.wav</td>\n",
              "      <td>0.629595</td>\n",
              "      <td>0.001046</td>\n",
              "      <td>2966.187368</td>\n",
              "      <td>3196.646237</td>\n",
              "      <td>7406.184335</td>\n",
              "      <td>0.104795</td>\n",
              "      <td>-529.171448</td>\n",
              "      <td>77.275093</td>\n",
              "      <td>23.487577</td>\n",
              "      <td>16.563055</td>\n",
              "      <td>7.339686</td>\n",
              "      <td>6.370508</td>\n",
              "      <td>3.275558</td>\n",
              "      <td>8.275705</td>\n",
              "      <td>4.826116</td>\n",
              "      <td>9.788365</td>\n",
              "      <td>0.406062</td>\n",
              "      <td>4.136973</td>\n",
              "      <td>-3.406797</td>\n",
              "      <td>4.826828</td>\n",
              "      <td>-1.989488</td>\n",
              "      <td>5.065455</td>\n",
              "      <td>-0.684680</td>\n",
              "      <td>7.353349</td>\n",
              "      <td>2.709668</td>\n",
              "      <td>8.512812</td>\n",
              "      <td>bee</td>\n",
              "    </tr>\n",
              "    <tr>\n",
              "      <th>1</th>\n",
              "      <td>bee.000484.wav</td>\n",
              "      <td>0.539051</td>\n",
              "      <td>0.001210</td>\n",
              "      <td>2519.927486</td>\n",
              "      <td>2965.335234</td>\n",
              "      <td>6417.513301</td>\n",
              "      <td>0.095007</td>\n",
              "      <td>-512.343201</td>\n",
              "      <td>95.234703</td>\n",
              "      <td>20.777615</td>\n",
              "      <td>12.804491</td>\n",
              "      <td>0.344540</td>\n",
              "      <td>-1.511250</td>\n",
              "      <td>-3.174221</td>\n",
              "      <td>3.864238</td>\n",
              "      <td>1.827778</td>\n",
              "      <td>7.471657</td>\n",
              "      <td>-0.427291</td>\n",
              "      <td>2.045614</td>\n",
              "      <td>-5.137392</td>\n",
              "      <td>3.822553</td>\n",
              "      <td>-0.660945</td>\n",
              "      <td>5.467256</td>\n",
              "      <td>0.635052</td>\n",
              "      <td>8.102238</td>\n",
              "      <td>2.844197</td>\n",
              "      <td>6.357111</td>\n",
              "      <td>bee</td>\n",
              "    </tr>\n",
              "    <tr>\n",
              "      <th>2</th>\n",
              "      <td>bee.001006.wav</td>\n",
              "      <td>0.562158</td>\n",
              "      <td>0.014232</td>\n",
              "      <td>2851.119878</td>\n",
              "      <td>3069.096054</td>\n",
              "      <td>7029.489691</td>\n",
              "      <td>0.130005</td>\n",
              "      <td>-248.923523</td>\n",
              "      <td>86.957886</td>\n",
              "      <td>19.714333</td>\n",
              "      <td>9.704369</td>\n",
              "      <td>-2.904543</td>\n",
              "      <td>-2.517102</td>\n",
              "      <td>-5.230207</td>\n",
              "      <td>1.887486</td>\n",
              "      <td>-1.487882</td>\n",
              "      <td>6.496436</td>\n",
              "      <td>0.480693</td>\n",
              "      <td>3.002899</td>\n",
              "      <td>-3.840579</td>\n",
              "      <td>1.917276</td>\n",
              "      <td>-3.868127</td>\n",
              "      <td>2.680711</td>\n",
              "      <td>-2.675443</td>\n",
              "      <td>4.661464</td>\n",
              "      <td>1.001005</td>\n",
              "      <td>6.645530</td>\n",
              "      <td>bee</td>\n",
              "    </tr>\n",
              "    <tr>\n",
              "      <th>3</th>\n",
              "      <td>bee.000936.wav</td>\n",
              "      <td>0.608606</td>\n",
              "      <td>0.001223</td>\n",
              "      <td>2452.653670</td>\n",
              "      <td>2914.342972</td>\n",
              "      <td>6209.482759</td>\n",
              "      <td>0.097073</td>\n",
              "      <td>-507.740631</td>\n",
              "      <td>98.508263</td>\n",
              "      <td>18.290550</td>\n",
              "      <td>11.876636</td>\n",
              "      <td>-0.058496</td>\n",
              "      <td>-2.967272</td>\n",
              "      <td>-2.256381</td>\n",
              "      <td>2.591552</td>\n",
              "      <td>-1.508711</td>\n",
              "      <td>6.249717</td>\n",
              "      <td>0.489010</td>\n",
              "      <td>3.358586</td>\n",
              "      <td>-4.255188</td>\n",
              "      <td>5.006865</td>\n",
              "      <td>-0.224600</td>\n",
              "      <td>5.655270</td>\n",
              "      <td>-0.168333</td>\n",
              "      <td>7.331115</td>\n",
              "      <td>3.095170</td>\n",
              "      <td>6.855744</td>\n",
              "      <td>bee</td>\n",
              "    </tr>\n",
              "    <tr>\n",
              "      <th>4</th>\n",
              "      <td>bee.000468.wav</td>\n",
              "      <td>0.603719</td>\n",
              "      <td>0.001100</td>\n",
              "      <td>2656.406265</td>\n",
              "      <td>3050.841742</td>\n",
              "      <td>6805.110958</td>\n",
              "      <td>0.107500</td>\n",
              "      <td>-516.661316</td>\n",
              "      <td>91.401421</td>\n",
              "      <td>24.199224</td>\n",
              "      <td>13.729902</td>\n",
              "      <td>0.598373</td>\n",
              "      <td>-0.802625</td>\n",
              "      <td>0.480001</td>\n",
              "      <td>6.841325</td>\n",
              "      <td>0.107769</td>\n",
              "      <td>7.730503</td>\n",
              "      <td>0.238797</td>\n",
              "      <td>3.340447</td>\n",
              "      <td>-4.161011</td>\n",
              "      <td>3.645312</td>\n",
              "      <td>-1.382742</td>\n",
              "      <td>4.248405</td>\n",
              "      <td>-0.930075</td>\n",
              "      <td>7.981502</td>\n",
              "      <td>2.517323</td>\n",
              "      <td>5.668016</td>\n",
              "      <td>bee</td>\n",
              "    </tr>\n",
              "    <tr>\n",
              "      <th>...</th>\n",
              "      <td>...</td>\n",
              "      <td>...</td>\n",
              "      <td>...</td>\n",
              "      <td>...</td>\n",
              "      <td>...</td>\n",
              "      <td>...</td>\n",
              "      <td>...</td>\n",
              "      <td>...</td>\n",
              "      <td>...</td>\n",
              "      <td>...</td>\n",
              "      <td>...</td>\n",
              "      <td>...</td>\n",
              "      <td>...</td>\n",
              "      <td>...</td>\n",
              "      <td>...</td>\n",
              "      <td>...</td>\n",
              "      <td>...</td>\n",
              "      <td>...</td>\n",
              "      <td>...</td>\n",
              "      <td>...</td>\n",
              "      <td>...</td>\n",
              "      <td>...</td>\n",
              "      <td>...</td>\n",
              "      <td>...</td>\n",
              "      <td>...</td>\n",
              "      <td>...</td>\n",
              "      <td>...</td>\n",
              "      <td>...</td>\n",
              "    </tr>\n",
              "    <tr>\n",
              "      <th>4065</th>\n",
              "      <td>nobee.002331.wav</td>\n",
              "      <td>0.509332</td>\n",
              "      <td>0.004819</td>\n",
              "      <td>1506.047665</td>\n",
              "      <td>2182.485090</td>\n",
              "      <td>3203.249596</td>\n",
              "      <td>0.043160</td>\n",
              "      <td>-427.850403</td>\n",
              "      <td>129.956619</td>\n",
              "      <td>3.524954</td>\n",
              "      <td>21.742903</td>\n",
              "      <td>4.876909</td>\n",
              "      <td>6.405334</td>\n",
              "      <td>4.914803</td>\n",
              "      <td>11.714141</td>\n",
              "      <td>4.359854</td>\n",
              "      <td>6.960132</td>\n",
              "      <td>-0.126011</td>\n",
              "      <td>9.979558</td>\n",
              "      <td>3.870841</td>\n",
              "      <td>11.290865</td>\n",
              "      <td>-0.102545</td>\n",
              "      <td>2.401504</td>\n",
              "      <td>-7.326881</td>\n",
              "      <td>0.537409</td>\n",
              "      <td>0.004284</td>\n",
              "      <td>5.220933</td>\n",
              "      <td>nobee</td>\n",
              "    </tr>\n",
              "    <tr>\n",
              "      <th>4066</th>\n",
              "      <td>nobee.000757.wav</td>\n",
              "      <td>0.571468</td>\n",
              "      <td>0.004503</td>\n",
              "      <td>1901.627177</td>\n",
              "      <td>2779.379805</td>\n",
              "      <td>5026.641635</td>\n",
              "      <td>0.039158</td>\n",
              "      <td>-469.520935</td>\n",
              "      <td>98.794785</td>\n",
              "      <td>26.990831</td>\n",
              "      <td>22.256584</td>\n",
              "      <td>13.764506</td>\n",
              "      <td>14.662493</td>\n",
              "      <td>12.519028</td>\n",
              "      <td>14.545423</td>\n",
              "      <td>8.957266</td>\n",
              "      <td>8.388435</td>\n",
              "      <td>-5.567890</td>\n",
              "      <td>0.391492</td>\n",
              "      <td>-1.169058</td>\n",
              "      <td>10.770167</td>\n",
              "      <td>3.479337</td>\n",
              "      <td>10.595073</td>\n",
              "      <td>2.213144</td>\n",
              "      <td>12.139256</td>\n",
              "      <td>3.717404</td>\n",
              "      <td>6.236328</td>\n",
              "      <td>nobee</td>\n",
              "    </tr>\n",
              "    <tr>\n",
              "      <th>4067</th>\n",
              "      <td>nobee.002081.wav</td>\n",
              "      <td>0.578200</td>\n",
              "      <td>0.005151</td>\n",
              "      <td>1675.606646</td>\n",
              "      <td>2252.636568</td>\n",
              "      <td>3648.021619</td>\n",
              "      <td>0.058240</td>\n",
              "      <td>-405.264832</td>\n",
              "      <td>123.341232</td>\n",
              "      <td>-2.068772</td>\n",
              "      <td>20.221743</td>\n",
              "      <td>1.898528</td>\n",
              "      <td>8.373039</td>\n",
              "      <td>5.835402</td>\n",
              "      <td>14.395742</td>\n",
              "      <td>5.019365</td>\n",
              "      <td>5.443181</td>\n",
              "      <td>-3.512887</td>\n",
              "      <td>9.228662</td>\n",
              "      <td>3.333829</td>\n",
              "      <td>12.133820</td>\n",
              "      <td>-3.160706</td>\n",
              "      <td>4.319921</td>\n",
              "      <td>-4.603345</td>\n",
              "      <td>5.810204</td>\n",
              "      <td>-0.368056</td>\n",
              "      <td>5.430214</td>\n",
              "      <td>nobee</td>\n",
              "    </tr>\n",
              "    <tr>\n",
              "      <th>4068</th>\n",
              "      <td>nobee.002436.wav</td>\n",
              "      <td>0.624897</td>\n",
              "      <td>0.003145</td>\n",
              "      <td>1706.039328</td>\n",
              "      <td>2236.654301</td>\n",
              "      <td>3697.275727</td>\n",
              "      <td>0.059082</td>\n",
              "      <td>-440.883972</td>\n",
              "      <td>123.094543</td>\n",
              "      <td>-2.282243</td>\n",
              "      <td>23.971018</td>\n",
              "      <td>-0.789811</td>\n",
              "      <td>5.400704</td>\n",
              "      <td>4.318671</td>\n",
              "      <td>9.227320</td>\n",
              "      <td>1.693926</td>\n",
              "      <td>6.716097</td>\n",
              "      <td>1.099561</td>\n",
              "      <td>6.118347</td>\n",
              "      <td>1.654456</td>\n",
              "      <td>9.625961</td>\n",
              "      <td>0.388594</td>\n",
              "      <td>3.957284</td>\n",
              "      <td>-3.656892</td>\n",
              "      <td>1.719971</td>\n",
              "      <td>-0.409538</td>\n",
              "      <td>3.908302</td>\n",
              "      <td>nobee</td>\n",
              "    </tr>\n",
              "    <tr>\n",
              "      <th>4069</th>\n",
              "      <td>nobee.000200.wav</td>\n",
              "      <td>0.578484</td>\n",
              "      <td>0.004983</td>\n",
              "      <td>1747.500271</td>\n",
              "      <td>2802.469159</td>\n",
              "      <td>4897.442416</td>\n",
              "      <td>0.031458</td>\n",
              "      <td>-494.615784</td>\n",
              "      <td>98.082466</td>\n",
              "      <td>34.621696</td>\n",
              "      <td>18.186384</td>\n",
              "      <td>16.009401</td>\n",
              "      <td>17.064392</td>\n",
              "      <td>15.113445</td>\n",
              "      <td>20.222414</td>\n",
              "      <td>12.779009</td>\n",
              "      <td>9.225408</td>\n",
              "      <td>-1.632195</td>\n",
              "      <td>4.876012</td>\n",
              "      <td>0.510697</td>\n",
              "      <td>12.772953</td>\n",
              "      <td>3.432540</td>\n",
              "      <td>10.075655</td>\n",
              "      <td>3.717531</td>\n",
              "      <td>9.529428</td>\n",
              "      <td>0.062567</td>\n",
              "      <td>4.482868</td>\n",
              "      <td>nobee</td>\n",
              "    </tr>\n",
              "  </tbody>\n",
              "</table>\n",
              "<p>4070 rows × 28 columns</p>\n",
              "</div>"
            ],
            "text/plain": [
              "              filename  chroma_stft      rmse  ...    mfcc19    mfcc20  label\n",
              "0       bee.000954.wav     0.629595  0.001046  ...  2.709668  8.512812    bee\n",
              "1       bee.000484.wav     0.539051  0.001210  ...  2.844197  6.357111    bee\n",
              "2       bee.001006.wav     0.562158  0.014232  ...  1.001005  6.645530    bee\n",
              "3       bee.000936.wav     0.608606  0.001223  ...  3.095170  6.855744    bee\n",
              "4       bee.000468.wav     0.603719  0.001100  ...  2.517323  5.668016    bee\n",
              "...                ...          ...       ...  ...       ...       ...    ...\n",
              "4065  nobee.002331.wav     0.509332  0.004819  ...  0.004284  5.220933  nobee\n",
              "4066  nobee.000757.wav     0.571468  0.004503  ...  3.717404  6.236328  nobee\n",
              "4067  nobee.002081.wav     0.578200  0.005151  ... -0.368056  5.430214  nobee\n",
              "4068  nobee.002436.wav     0.624897  0.003145  ... -0.409538  3.908302  nobee\n",
              "4069  nobee.000200.wav     0.578484  0.004983  ...  0.062567  4.482868  nobee\n",
              "\n",
              "[4070 rows x 28 columns]"
            ]
          },
          "metadata": {},
          "execution_count": 3
        }
      ]
    },
    {
      "cell_type": "code",
      "metadata": {
        "colab": {
          "base_uri": "https://localhost:8080/"
        },
        "id": "pyv0mFbqQatx",
        "outputId": "df9d7e5b-bee4-4223-85b4-6a7a37e55a03"
      },
      "source": [
        "dataset['label']"
      ],
      "execution_count": null,
      "outputs": [
        {
          "output_type": "execute_result",
          "data": {
            "text/plain": [
              "0         bee\n",
              "1         bee\n",
              "2         bee\n",
              "3         bee\n",
              "4         bee\n",
              "        ...  \n",
              "4065    nobee\n",
              "4066    nobee\n",
              "4067    nobee\n",
              "4068    nobee\n",
              "4069    nobee\n",
              "Name: label, Length: 4070, dtype: object"
            ]
          },
          "metadata": {},
          "execution_count": 4
        }
      ]
    },
    {
      "cell_type": "code",
      "metadata": {
        "id": "nyRSODKpQdhh"
      },
      "source": [
        "from sklearn import preprocessing\n",
        "levelencoder= preprocessing.LabelEncoder()\n",
        "dataset['label']= levelencoder.fit_transform(dataset['label'])"
      ],
      "execution_count": null,
      "outputs": []
    },
    {
      "cell_type": "code",
      "metadata": {
        "id": "h8Bum24lQuq5"
      },
      "source": [
        "m = dataset.iloc[:, 1:].values"
      ],
      "execution_count": null,
      "outputs": []
    },
    {
      "cell_type": "code",
      "metadata": {
        "colab": {
          "base_uri": "https://localhost:8080/"
        },
        "id": "4ZETbAkcQx7B",
        "outputId": "dd9acd0f-d32f-4043-bd83-6675af9b3664"
      },
      "source": [
        "m\n"
      ],
      "execution_count": null,
      "outputs": [
        {
          "output_type": "execute_result",
          "data": {
            "text/plain": [
              "array([[ 6.29595459e-01,  1.04646140e-03,  2.96618737e+03, ...,\n",
              "         2.70966792e+00,  8.51281166e+00,  0.00000000e+00],\n",
              "       [ 5.39050758e-01,  1.21033902e-03,  2.51992749e+03, ...,\n",
              "         2.84419656e+00,  6.35711050e+00,  0.00000000e+00],\n",
              "       [ 5.62157750e-01,  1.42315626e-02,  2.85111988e+03, ...,\n",
              "         1.00100529e+00,  6.64553022e+00,  0.00000000e+00],\n",
              "       ...,\n",
              "       [ 5.78199506e-01,  5.15128998e-03,  1.67560665e+03, ...,\n",
              "        -3.68056327e-01,  5.43021441e+00,  1.00000000e+00],\n",
              "       [ 6.24897182e-01,  3.14479205e-03,  1.70603933e+03, ...,\n",
              "        -4.09537643e-01,  3.90830231e+00,  1.00000000e+00],\n",
              "       [ 5.78484118e-01,  4.98281699e-03,  1.74750027e+03, ...,\n",
              "         6.25668094e-02,  4.48286819e+00,  1.00000000e+00]])"
            ]
          },
          "metadata": {},
          "execution_count": 7
        }
      ]
    },
    {
      "cell_type": "code",
      "metadata": {
        "id": "UkJgnBumQ12p"
      },
      "source": [
        "def split_sequences(sequences, n_steps):\n",
        "\ta, b = list(), list()\n",
        "\tfor i in range(len(sequences)):\n",
        "\t\t# find the end of this pattern\n",
        "\t\tend_ix = i + n_steps\n",
        "    \n",
        "\t\t# check if we are beyond the dataset\n",
        "\t\tif end_ix > len(sequences):\n",
        "\t\t\tbreak\n",
        "\t\t# gather input and output parts of the pattern\n",
        "\t\tseq_x, seq_y = sequences[i:end_ix, :-1], sequences[end_ix-1, -1]\n",
        "    \n",
        "\t\ta.append(seq_x)\n",
        "\t\tb.append(seq_y)\n",
        "\treturn array(a), array(b)"
      ],
      "execution_count": null,
      "outputs": []
    },
    {
      "cell_type": "code",
      "metadata": {
        "id": "_wIADHSEQ4zB"
      },
      "source": [
        "d=dataset[1:26:-1]"
      ],
      "execution_count": null,
      "outputs": []
    },
    {
      "cell_type": "code",
      "metadata": {
        "colab": {
          "base_uri": "https://localhost:8080/"
        },
        "id": "LocdvD91Q9vZ",
        "outputId": "415dbf8e-4499-4624-ed55-781ad6c345e8"
      },
      "source": [
        "m.shape"
      ],
      "execution_count": null,
      "outputs": [
        {
          "output_type": "execute_result",
          "data": {
            "text/plain": [
              "(4070, 27)"
            ]
          },
          "metadata": {},
          "execution_count": 10
        }
      ]
    },
    {
      "cell_type": "code",
      "metadata": {
        "colab": {
          "base_uri": "https://localhost:8080/"
        },
        "id": "MBndDbuURAOJ",
        "outputId": "34a28b4d-8424-49d6-af8d-870a40ce99a2"
      },
      "source": [
        "m"
      ],
      "execution_count": null,
      "outputs": [
        {
          "output_type": "execute_result",
          "data": {
            "text/plain": [
              "array([[ 6.29595459e-01,  1.04646140e-03,  2.96618737e+03, ...,\n",
              "         2.70966792e+00,  8.51281166e+00,  0.00000000e+00],\n",
              "       [ 5.39050758e-01,  1.21033902e-03,  2.51992749e+03, ...,\n",
              "         2.84419656e+00,  6.35711050e+00,  0.00000000e+00],\n",
              "       [ 5.62157750e-01,  1.42315626e-02,  2.85111988e+03, ...,\n",
              "         1.00100529e+00,  6.64553022e+00,  0.00000000e+00],\n",
              "       ...,\n",
              "       [ 5.78199506e-01,  5.15128998e-03,  1.67560665e+03, ...,\n",
              "        -3.68056327e-01,  5.43021441e+00,  1.00000000e+00],\n",
              "       [ 6.24897182e-01,  3.14479205e-03,  1.70603933e+03, ...,\n",
              "        -4.09537643e-01,  3.90830231e+00,  1.00000000e+00],\n",
              "       [ 5.78484118e-01,  4.98281699e-03,  1.74750027e+03, ...,\n",
              "         6.25668094e-02,  4.48286819e+00,  1.00000000e+00]])"
            ]
          },
          "metadata": {},
          "execution_count": 11
        }
      ]
    },
    {
      "cell_type": "code",
      "metadata": {
        "id": "0xChFLl5RDhx"
      },
      "source": [
        "a,b = split_sequences(m, 27)"
      ],
      "execution_count": null,
      "outputs": []
    },
    {
      "cell_type": "code",
      "metadata": {
        "colab": {
          "base_uri": "https://localhost:8080/"
        },
        "id": "ctN5w8X2RGbw",
        "outputId": "727ce851-56d9-4f26-f979-1c4932670f54"
      },
      "source": [
        "b"
      ],
      "execution_count": null,
      "outputs": [
        {
          "output_type": "execute_result",
          "data": {
            "text/plain": [
              "array([0., 0., 0., ..., 1., 1., 1.])"
            ]
          },
          "metadata": {},
          "execution_count": 13
        }
      ]
    },
    {
      "cell_type": "code",
      "metadata": {
        "colab": {
          "base_uri": "https://localhost:8080/"
        },
        "id": "QLqWvYW-RIAC",
        "outputId": "b9e41828-a8f5-4ea0-df33-76a83aa40c07"
      },
      "source": [
        "a"
      ],
      "execution_count": null,
      "outputs": [
        {
          "output_type": "execute_result",
          "data": {
            "text/plain": [
              "array([[[ 6.29595459e-01,  1.04646140e-03,  2.96618737e+03, ...,\n",
              "          7.35334873e+00,  2.70966792e+00,  8.51281166e+00],\n",
              "        [ 5.39050758e-01,  1.21033902e-03,  2.51992749e+03, ...,\n",
              "          8.10223770e+00,  2.84419656e+00,  6.35711050e+00],\n",
              "        [ 5.62157750e-01,  1.42315626e-02,  2.85111988e+03, ...,\n",
              "          4.66146374e+00,  1.00100529e+00,  6.64553022e+00],\n",
              "        ...,\n",
              "        [ 5.52716374e-01,  8.67123425e-04,  2.94183280e+03, ...,\n",
              "          5.52934217e+00,  9.01236176e-01,  7.84008646e+00],\n",
              "        [ 5.44274211e-01,  1.06035813e-03,  2.61144636e+03, ...,\n",
              "          6.27785254e+00,  1.77195811e+00,  5.18353224e+00],\n",
              "        [ 5.87314427e-01,  1.13051280e-03,  2.54816395e+03, ...,\n",
              "          6.89436150e+00,  7.32693315e-01,  4.08180952e+00]],\n",
              "\n",
              "       [[ 5.39050758e-01,  1.21033902e-03,  2.51992749e+03, ...,\n",
              "          8.10223770e+00,  2.84419656e+00,  6.35711050e+00],\n",
              "        [ 5.62157750e-01,  1.42315626e-02,  2.85111988e+03, ...,\n",
              "          4.66146374e+00,  1.00100529e+00,  6.64553022e+00],\n",
              "        [ 6.08605623e-01,  1.22324657e-03,  2.45265367e+03, ...,\n",
              "          7.33111525e+00,  3.09517026e+00,  6.85574436e+00],\n",
              "        ...,\n",
              "        [ 5.44274211e-01,  1.06035813e-03,  2.61144636e+03, ...,\n",
              "          6.27785254e+00,  1.77195811e+00,  5.18353224e+00],\n",
              "        [ 5.87314427e-01,  1.13051280e-03,  2.54816395e+03, ...,\n",
              "          6.89436150e+00,  7.32693315e-01,  4.08180952e+00],\n",
              "        [ 5.06231904e-01,  1.06777914e-03,  2.66872790e+03, ...,\n",
              "          7.47889948e+00,  2.64786124e+00,  5.31551600e+00]],\n",
              "\n",
              "       [[ 5.62157750e-01,  1.42315626e-02,  2.85111988e+03, ...,\n",
              "          4.66146374e+00,  1.00100529e+00,  6.64553022e+00],\n",
              "        [ 6.08605623e-01,  1.22324657e-03,  2.45265367e+03, ...,\n",
              "          7.33111525e+00,  3.09517026e+00,  6.85574436e+00],\n",
              "        [ 6.03719056e-01,  1.09963631e-03,  2.65640626e+03, ...,\n",
              "          7.98150158e+00,  2.51732326e+00,  5.66801596e+00],\n",
              "        ...,\n",
              "        [ 5.87314427e-01,  1.13051280e-03,  2.54816395e+03, ...,\n",
              "          6.89436150e+00,  7.32693315e-01,  4.08180952e+00],\n",
              "        [ 5.06231904e-01,  1.06777914e-03,  2.66872790e+03, ...,\n",
              "          7.47889948e+00,  2.64786124e+00,  5.31551600e+00],\n",
              "        [ 6.20441914e-01,  1.90081901e-03,  2.24613994e+03, ...,\n",
              "          7.35209513e+00,  2.26482368e+00,  5.35866070e+00]],\n",
              "\n",
              "       ...,\n",
              "\n",
              "       [[ 5.85202217e-01,  7.93344399e-04,  2.96871615e+03, ...,\n",
              "          5.25018072e+00,  5.02271116e-01,  5.68031597e+00],\n",
              "        [ 5.02596855e-01,  7.87951797e-03,  1.50788857e+03, ...,\n",
              "          4.59345913e+00,  7.25325525e-01,  5.98539352e+00],\n",
              "        [ 5.63144207e-01,  6.99854735e-03,  1.37762484e+03, ...,\n",
              "         -4.10611592e-02, -6.37449408e+00,  2.91663319e-01],\n",
              "        ...,\n",
              "        [ 5.09331822e-01,  4.81872400e-03,  1.50604767e+03, ...,\n",
              "          5.37409306e-01,  4.28446429e-03,  5.22093296e+00],\n",
              "        [ 5.71467936e-01,  4.50290926e-03,  1.90162718e+03, ...,\n",
              "          1.21392555e+01,  3.71740437e+00,  6.23632812e+00],\n",
              "        [ 5.78199506e-01,  5.15128998e-03,  1.67560665e+03, ...,\n",
              "          5.81020403e+00, -3.68056327e-01,  5.43021441e+00]],\n",
              "\n",
              "       [[ 5.02596855e-01,  7.87951797e-03,  1.50788857e+03, ...,\n",
              "          4.59345913e+00,  7.25325525e-01,  5.98539352e+00],\n",
              "        [ 5.63144207e-01,  6.99854735e-03,  1.37762484e+03, ...,\n",
              "         -4.10611592e-02, -6.37449408e+00,  2.91663319e-01],\n",
              "        [ 5.81342995e-01,  3.26026650e-03,  1.75157440e+03, ...,\n",
              "          2.49852610e+00, -4.30952042e-01,  4.32838249e+00],\n",
              "        ...,\n",
              "        [ 5.71467936e-01,  4.50290926e-03,  1.90162718e+03, ...,\n",
              "          1.21392555e+01,  3.71740437e+00,  6.23632812e+00],\n",
              "        [ 5.78199506e-01,  5.15128998e-03,  1.67560665e+03, ...,\n",
              "          5.81020403e+00, -3.68056327e-01,  5.43021441e+00],\n",
              "        [ 6.24897182e-01,  3.14479205e-03,  1.70603933e+03, ...,\n",
              "          1.71997118e+00, -4.09537643e-01,  3.90830231e+00]],\n",
              "\n",
              "       [[ 5.63144207e-01,  6.99854735e-03,  1.37762484e+03, ...,\n",
              "         -4.10611592e-02, -6.37449408e+00,  2.91663319e-01],\n",
              "        [ 5.81342995e-01,  3.26026650e-03,  1.75157440e+03, ...,\n",
              "          2.49852610e+00, -4.30952042e-01,  4.32838249e+00],\n",
              "        [ 5.32264113e-01,  3.70591390e-03,  1.91750907e+03, ...,\n",
              "          6.40622377e-01, -4.18578291e+00,  2.13985491e+00],\n",
              "        ...,\n",
              "        [ 5.78199506e-01,  5.15128998e-03,  1.67560665e+03, ...,\n",
              "          5.81020403e+00, -3.68056327e-01,  5.43021441e+00],\n",
              "        [ 6.24897182e-01,  3.14479205e-03,  1.70603933e+03, ...,\n",
              "          1.71997118e+00, -4.09537643e-01,  3.90830231e+00],\n",
              "        [ 5.78484118e-01,  4.98281699e-03,  1.74750027e+03, ...,\n",
              "          9.52942848e+00,  6.25668094e-02,  4.48286819e+00]]])"
            ]
          },
          "metadata": {},
          "execution_count": 14
        }
      ]
    },
    {
      "cell_type": "code",
      "metadata": {
        "id": "3b1Q_KIlRLHx"
      },
      "source": [
        "from sklearn.model_selection import train_test_split\n",
        "a_train, a_test, b_train, b_test = train_test_split(a, b, test_size = 0.2, random_state = 1)"
      ],
      "execution_count": null,
      "outputs": []
    },
    {
      "cell_type": "code",
      "metadata": {
        "id": "JfJ-lge_RNqL"
      },
      "source": [
        "n_features = a.shape[2]"
      ],
      "execution_count": null,
      "outputs": []
    },
    {
      "cell_type": "code",
      "metadata": {
        "id": "fg167tykRRxR"
      },
      "source": [
        "from numpy import array\n",
        "from numpy import hstack\n",
        "from keras.models import Sequential\n",
        "from keras.layers import Dense,Dropout, LSTM\n",
        "import tensorflow as tf"
      ],
      "execution_count": null,
      "outputs": []
    },
    {
      "cell_type": "code",
      "metadata": {
        "colab": {
          "base_uri": "https://localhost:8080/"
        },
        "id": "CpNl5GoGRVLi",
        "outputId": "5d95c032-a7d7-4d24-974e-055a8731ea8f"
      },
      "source": [
        "model = Sequential()\n",
        "model.add(LSTM(128, activation='relu', input_shape=(a_train.shape[1:]), return_sequences=True))\n",
        "model.add(Dropout(0.2))\n",
        "\n",
        "model.add(LSTM(128, activation='relu'))\n",
        "model.add(Dropout(0.2))\n",
        "\n",
        "model.add(Dense(32, activation='relu'))\n",
        "model.add(Dropout(0.2))\n",
        "\n",
        "model.add(Dense(1, activation='sigmoid'))\n",
        "\n",
        "opt = tf.keras.optimizers.Adam(learning_rate=1e-3, decay =  1e-5)\n",
        "model.compile(loss= 'mse' ,optimizer=opt, metrics=['accuracy'])\n",
        "\n",
        "\n",
        "\n",
        "\n",
        "#model.compile(optimizer='adam', loss='sparse_categorical_cr',metrics = ['accuracy'])\n",
        "# fit model\n",
        "model.fit(a_train, b_train, batch_size=128, epochs=1000, validation_data=(a_test, b_test), verbose=0)\n"
      ],
      "execution_count": null,
      "outputs": [
        {
          "output_type": "execute_result",
          "data": {
            "text/plain": [
              "<keras.callbacks.History at 0x7ff86d1dbb50>"
            ]
          },
          "metadata": {},
          "execution_count": 18
        }
      ]
    },
    {
      "cell_type": "code",
      "metadata": {
        "colab": {
          "base_uri": "https://localhost:8080/"
        },
        "id": "StvKXSSkVOy6",
        "outputId": "7c6b4049-abc7-47b0-9c98-97bd6baaad6e"
      },
      "source": [
        "test_loss, test_acc = model.evaluate(a_test,b_test)\n",
        "print('test_acc: ',test_acc)"
      ],
      "execution_count": null,
      "outputs": [
        {
          "output_type": "stream",
          "name": "stdout",
          "text": [
            "26/26 [==============================] - 0s 17ms/step - loss: 0.2719 - accuracy: 0.7281\n",
            "test_acc:  0.7280593514442444\n"
          ]
        }
      ]
    }
  ]
}